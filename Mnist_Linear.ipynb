{
  "nbformat": 4,
  "nbformat_minor": 0,
  "metadata": {
    "colab": {
      "provenance": [],
      "authorship_tag": "ABX9TyMVL0IH60K+vyXct90h/mAi",
      "include_colab_link": true
    },
    "kernelspec": {
      "name": "python3",
      "display_name": "Python 3"
    },
    "language_info": {
      "name": "python"
    }
  },
  "cells": [
    {
      "cell_type": "markdown",
      "metadata": {
        "id": "view-in-github",
        "colab_type": "text"
      },
      "source": [
        "<a href=\"https://colab.research.google.com/github/Sanim27/Mnist_Lin/blob/main/Mnist_Linear.ipynb\" target=\"_parent\"><img src=\"https://colab.research.google.com/assets/colab-badge.svg\" alt=\"Open In Colab\"/></a>"
      ]
    },
    {
      "cell_type": "code",
      "execution_count": null,
      "metadata": {
        "id": "CrrTKDcrNetq"
      },
      "outputs": [],
      "source": [
        "import torch\n",
        "import torchvision\n",
        "from torchvision.datasets import MNIST"
      ]
    },
    {
      "cell_type": "code",
      "source": [
        "dataset=MNIST(root='data/',download=True)"
      ],
      "metadata": {
        "id": "oJAuElgyOKfB"
      },
      "execution_count": null,
      "outputs": []
    },
    {
      "cell_type": "code",
      "source": [
        "len(dataset)"
      ],
      "metadata": {
        "colab": {
          "base_uri": "https://localhost:8080/"
        },
        "id": "exxYlli5OY0F",
        "outputId": "df8893d6-a6f2-4876-b89f-ad324ff7f997"
      },
      "execution_count": null,
      "outputs": [
        {
          "output_type": "execute_result",
          "data": {
            "text/plain": [
              "60000"
            ]
          },
          "metadata": {},
          "execution_count": 237
        }
      ]
    },
    {
      "cell_type": "code",
      "source": [
        "test_dataset=MNIST(root='data/',train=False)\n",
        "len(test_dataset)"
      ],
      "metadata": {
        "colab": {
          "base_uri": "https://localhost:8080/"
        },
        "id": "c0mVhSE7Oku0",
        "outputId": "2863468b-318f-4300-ad02-6aa4739ebbab"
      },
      "execution_count": null,
      "outputs": [
        {
          "output_type": "execute_result",
          "data": {
            "text/plain": [
              "10000"
            ]
          },
          "metadata": {},
          "execution_count": 238
        }
      ]
    },
    {
      "cell_type": "code",
      "source": [
        "dataset[0]"
      ],
      "metadata": {
        "colab": {
          "base_uri": "https://localhost:8080/"
        },
        "id": "ehRF7YhGOwUx",
        "outputId": "da99208f-b486-4bef-eb00-8a32551ab905"
      },
      "execution_count": null,
      "outputs": [
        {
          "output_type": "execute_result",
          "data": {
            "text/plain": [
              "(<PIL.Image.Image image mode=L size=28x28>, 5)"
            ]
          },
          "metadata": {},
          "execution_count": 239
        }
      ]
    },
    {
      "cell_type": "code",
      "source": [
        "import matplotlib.pyplot as plt\n",
        "%matplotlib inline"
      ],
      "metadata": {
        "id": "ADQW7YcQOyUT"
      },
      "execution_count": null,
      "outputs": []
    },
    {
      "cell_type": "code",
      "source": [
        "image,label=dataset[6]\n",
        "plt.imshow(image,cmap='gray')\n",
        "print('Label:',label)\n",
        "plt.show()"
      ],
      "metadata": {
        "colab": {
          "base_uri": "https://localhost:8080/",
          "height": 448
        },
        "id": "-w8Uq7GOPHTX",
        "outputId": "b83f94eb-bb9d-4979-ec69-90ddf1436b78"
      },
      "execution_count": null,
      "outputs": [
        {
          "output_type": "stream",
          "name": "stdout",
          "text": [
            "Label: 1\n"
          ]
        },
        {
          "output_type": "display_data",
          "data": {
            "text/plain": [
              "<Figure size 640x480 with 1 Axes>"
            ],
            "image/png": "[encoded data removed]"
          },
          "metadata": {}
        }
      ]
    },
    {
      "cell_type": "code",
      "source": [
        "import torchvision.transforms as transforms"
      ],
      "metadata": {
        "id": "SM5dvoBtPOo7"
      },
      "execution_count": null,
      "outputs": []
    },
    {
      "cell_type": "code",
      "source": [
        "dataset=MNIST(root='data/',train=True,transform=transforms.ToTensor())"
      ],
      "metadata": {
        "id": "dpfNgJS-Pa_2"
      },
      "execution_count": null,
      "outputs": []
    },
    {
      "cell_type": "code",
      "source": [
        "img_tensor,label=dataset[0]"
      ],
      "metadata": {
        "id": "qFFrGA_7Pl5C"
      },
      "execution_count": null,
      "outputs": []
    },
    {
      "cell_type": "code",
      "source": [
        "img_tensor.shape"
      ],
      "metadata": {
        "colab": {
          "base_uri": "https://localhost:8080/"
        },
        "id": "R2rZ2GhPPubZ",
        "outputId": "cba218a8-0cfc-4832-e279-64e39061ca62"
      },
      "execution_count": null,
      "outputs": [
        {
          "output_type": "execute_result",
          "data": {
            "text/plain": [
              "torch.Size([1, 28, 28])"
            ]
          },
          "metadata": {},
          "execution_count": 245
        }
      ]
    },
    {
      "cell_type": "code",
      "source": [
        "print(img_tensor[0,10:15,10:15])"
      ],
      "metadata": {
        "colab": {
          "base_uri": "https://localhost:8080/"
        },
        "id": "N6L2vMbCPw66",
        "outputId": "2ae4f41c-b97e-4e05-8e94-1fd326e07bac"
      },
      "execution_count": null,
      "outputs": [
        {
          "output_type": "stream",
          "name": "stdout",
          "text": [
            "tensor([[0.0039, 0.6039, 0.9922, 0.3529, 0.0000],\n",
            "        [0.0000, 0.5451, 0.9922, 0.7451, 0.0078],\n",
            "        [0.0000, 0.0431, 0.7451, 0.9922, 0.2745],\n",
            "        [0.0000, 0.0000, 0.1373, 0.9451, 0.8824],\n",
            "        [0.0000, 0.0000, 0.0000, 0.3176, 0.9412]])\n"
          ]
        }
      ]
    },
    {
      "cell_type": "code",
      "source": [
        "plt.imshow(img_tensor[0,10:15,10:15], cmap='gray');"
      ],
      "metadata": {
        "colab": {
          "base_uri": "https://localhost:8080/",
          "height": 430
        },
        "id": "HYzwjhemQW3o",
        "outputId": "17011c00-f355-4f8b-c788-a79e0f74668e"
      },
      "execution_count": null,
      "outputs": [
        {
          "output_type": "display_data",
          "data": {
            "text/plain": [
              "<Figure size 640x480 with 1 Axes>"
            ],
            "image/png": "[encoded data removed]"
          },
          "metadata": {}
        }
      ]
    },
    {
      "cell_type": "code",
      "source": [
        "from torch.utils.data import random_split\n",
        "train_ds,val_ds=random_split(dataset,[50000,10000])\n",
        "len(train_ds),len(val_ds)"
      ],
      "metadata": {
        "colab": {
          "base_uri": "https://localhost:8080/"
        },
        "id": "XC4KiA0xQh08",
        "outputId": "0c0c22ba-3e57-4177-dff6-9d34045cd4ee"
      },
      "execution_count": null,
      "outputs": [
        {
          "output_type": "execute_result",
          "data": {
            "text/plain": [
              "(50000, 10000)"
            ]
          },
          "metadata": {},
          "execution_count": 248
        }
      ]
    },
    {
      "cell_type": "code",
      "source": [
        "from torch.utils.data import DataLoader\n",
        "\n",
        "batch_size=128\n",
        "train_loader=DataLoader(train_ds,batch_size,shuffle=True)\n",
        "val_loader=DataLoader(val_ds,batch_size)"
      ],
      "metadata": {
        "id": "_FFfQiSRYDqF"
      },
      "execution_count": null,
      "outputs": []
    },
    {
      "cell_type": "code",
      "source": [
        "import torch.nn as nn\n",
        "input_size=28*28\n",
        "num_classes=10\n",
        "model=nn.Linear(input_size,num_classes)"
      ],
      "metadata": {
        "id": "xhyPtRhcY3Ui"
      },
      "execution_count": null,
      "outputs": []
    },
    {
      "cell_type": "code",
      "source": [
        "print(model.weight.shape)\n",
        "model.weight"
      ],
      "metadata": {
        "colab": {
          "base_uri": "https://localhost:8080/"
        },
        "id": "Uo82KMR7bGP5",
        "outputId": "84b54882-dc3c-4261-f874-ed992e98c58f"
      },
      "execution_count": null,
      "outputs": [
        {
          "output_type": "stream",
          "name": "stdout",
          "text": [
            "torch.Size([10, 784])\n"
          ]
        },
        {
          "output_type": "execute_result",
          "data": {
            "text/plain": [
              "Parameter containing:\n",
              "tensor([[ 1.4877e-02, -2.8841e-02,  3.4600e-02,  ..., -2.2403e-02,\n",
              "          2.1631e-02, -2.1466e-02],\n",
              "        [-1.7178e-02,  8.5878e-05, -1.2174e-03,  ..., -1.2035e-02,\n",
              "          3.3462e-02, -3.2409e-03],\n",
              "        [ 5.4730e-03, -1.3535e-02,  7.0411e-03,  ..., -3.4226e-03,\n",
              "         -3.2912e-02, -1.6204e-02],\n",
              "        ...,\n",
              "        [-1.1833e-02, -2.5449e-02, -2.9141e-02,  ..., -1.3852e-02,\n",
              "         -2.7031e-02, -2.9387e-02],\n",
              "        [-2.3558e-02,  5.3537e-03, -2.0176e-02,  ...,  1.3617e-02,\n",
              "         -3.3686e-02, -2.7643e-02],\n",
              "        [-4.5001e-03, -3.1500e-02, -3.3802e-02,  ..., -2.3084e-02,\n",
              "         -2.4297e-02, -2.6860e-02]], requires_grad=True)"
            ]
          },
          "metadata": {},
          "execution_count": 251
        }
      ]
    },
    {
      "cell_type": "code",
      "source": [
        "class MnistModel(nn.Module):\n",
        "  def __init__(self):\n",
        "    super().__init__()\n",
        "    self.linear=nn.Linear(input_size,num_classes)\n",
        "  def forward(self,xb):\n",
        "    xb=xb.reshape(-1,784)\n",
        "    out=self.linear(xb)\n",
        "    return out\n",
        "model=MnistModel()"
      ],
      "metadata": {
        "id": "cAkRe2PUfE-M"
      },
      "execution_count": null,
      "outputs": []
    },
    {
      "cell_type": "code",
      "source": [
        "model.linear"
      ],
      "metadata": {
        "colab": {
          "base_uri": "https://localhost:8080/"
        },
        "id": "0a4ywgQngjvX",
        "outputId": "4267df26-2e7a-48c3-8d85-1d9d3e06cdeb"
      },
      "execution_count": null,
      "outputs": [
        {
          "output_type": "execute_result",
          "data": {
            "text/plain": [
              "Linear(in_features=784, out_features=10, bias=True)"
            ]
          },
          "metadata": {},
          "execution_count": 253
        }
      ]
    },
    {
      "cell_type": "code",
      "source": [
        "print(model.linear.weight.shape,model.linear.bias.shape)\n",
        "list(model.parameters())"
      ],
      "metadata": {
        "colab": {
          "base_uri": "https://localhost:8080/"
        },
        "id": "ogpP8-0BiQlJ",
        "outputId": "6988b1f3-b825-4528-95ef-c2c4818fbb12"
      },
      "execution_count": null,
      "outputs": [
        {
          "output_type": "stream",
          "name": "stdout",
          "text": [
            "torch.Size([10, 784]) torch.Size([10])\n"
          ]
        },
        {
          "output_type": "execute_result",
          "data": {
            "text/plain": [
              "[Parameter containing:\n",
              " tensor([[-0.0015, -0.0144,  0.0021,  ..., -0.0290,  0.0142,  0.0052],\n",
              "         [ 0.0340,  0.0170,  0.0019,  ...,  0.0244, -0.0233, -0.0355],\n",
              "         [-0.0301,  0.0321,  0.0254,  ...,  0.0166,  0.0321, -0.0241],\n",
              "         ...,\n",
              "         [-0.0308,  0.0161, -0.0159,  ...,  0.0059, -0.0110, -0.0303],\n",
              "         [-0.0191,  0.0186, -0.0121,  ..., -0.0298,  0.0086,  0.0108],\n",
              "         [-0.0233,  0.0193,  0.0192,  ...,  0.0134,  0.0137,  0.0179]],\n",
              "        requires_grad=True),\n",
              " Parameter containing:\n",
              " tensor([ 0.0008, -0.0153,  0.0309, -0.0224, -0.0178, -0.0183,  0.0148, -0.0129,\n",
              "          0.0153, -0.0343], requires_grad=True)]"
            ]
          },
          "metadata": {},
          "execution_count": 254
        }
      ]
    },
    {
      "cell_type": "code",
      "source": [
        "for images,labels in train_loader:\n",
        "  print(images.shape)\n",
        "  outputs=model(images)\n",
        "  break\n",
        "print(outputs.shape)\n",
        "print('sample output \\n',outputs[:2].data)"
      ],
      "metadata": {
        "colab": {
          "base_uri": "https://localhost:8080/"
        },
        "id": "gGPfrw6fil4u",
        "outputId": "3d888217-6569-49ff-a1b3-fbdc951e6999"
      },
      "execution_count": null,
      "outputs": [
        {
          "output_type": "stream",
          "name": "stdout",
          "text": [
            "torch.Size([128, 1, 28, 28])\n",
            "torch.Size([128, 10])\n",
            "sample output \n",
            " tensor([[-0.1993,  0.0392,  0.1821,  0.1072, -0.0464,  0.1460, -0.2108,  0.0157,\n",
            "          0.0099, -0.0632],\n",
            "        [-0.0955, -0.0201,  0.2177,  0.0411, -0.0362,  0.4231, -0.1321,  0.2121,\n",
            "         -0.3106,  0.3875]])\n"
          ]
        }
      ]
    },
    {
      "cell_type": "code",
      "source": [
        "import torch.nn.functional as F"
      ],
      "metadata": {
        "id": "yHuEPU1yj17c"
      },
      "execution_count": null,
      "outputs": []
    },
    {
      "cell_type": "code",
      "source": [
        "outputs[:2]"
      ],
      "metadata": {
        "colab": {
          "base_uri": "https://localhost:8080/"
        },
        "id": "d0ez2pGcleHV",
        "outputId": "fa02b9dd-ff58-48d7-ebcb-cfde5bdb9834"
      },
      "execution_count": null,
      "outputs": [
        {
          "output_type": "execute_result",
          "data": {
            "text/plain": [
              "tensor([[-0.1993,  0.0392,  0.1821,  0.1072, -0.0464,  0.1460, -0.2108,  0.0157,\n",
              "          0.0099, -0.0632],\n",
              "        [-0.0955, -0.0201,  0.2177,  0.0411, -0.0362,  0.4231, -0.1321,  0.2121,\n",
              "         -0.3106,  0.3875]], grad_fn=<SliceBackward0>)"
            ]
          },
          "metadata": {},
          "execution_count": 257
        }
      ]
    },
    {
      "cell_type": "code",
      "source": [
        "probs=F.softmax(outputs,dim=1)\n",
        "print(\"Sample probabilities\",probs[:2].data)"
      ],
      "metadata": {
        "colab": {
          "base_uri": "https://localhost:8080/"
        },
        "id": "J074QpH6lmJM",
        "outputId": "e88e6304-56dc-4f43-ac2a-40d6a9e8e88d"
      },
      "execution_count": null,
      "outputs": [
        {
          "output_type": "stream",
          "name": "stdout",
          "text": [
            "Sample probabilities tensor([[0.0815, 0.1034, 0.1193, 0.1107, 0.0949, 0.1150, 0.0805, 0.1010, 0.1004,\n",
            "         0.0933],\n",
            "        [0.0827, 0.0892, 0.1132, 0.0949, 0.0878, 0.1390, 0.0798, 0.1126, 0.0667,\n",
            "         0.1341]])\n"
          ]
        }
      ]
    },
    {
      "cell_type": "code",
      "source": [
        "print('Sum across a row is',torch.sum(probs[0]).item())"
      ],
      "metadata": {
        "colab": {
          "base_uri": "https://localhost:8080/"
        },
        "id": "35sOP8PrmJ2V",
        "outputId": "43572fa8-515a-41bf-87c1-3dc408ead747"
      },
      "execution_count": null,
      "outputs": [
        {
          "output_type": "stream",
          "name": "stdout",
          "text": [
            "Sum across a row is 1.0\n"
          ]
        }
      ]
    },
    {
      "cell_type": "code",
      "source": [
        "max_prob, preds=torch.max(probs,dim=1)"
      ],
      "metadata": {
        "id": "e1wUGfbsmcym"
      },
      "execution_count": null,
      "outputs": []
    },
    {
      "cell_type": "code",
      "source": [
        "print(max_prob)\n",
        "print(preds)"
      ],
      "metadata": {
        "colab": {
          "base_uri": "https://localhost:8080/"
        },
        "id": "Wb13_Qx5nURx",
        "outputId": "37601a03-1399-4944-ff25-f66458918fe7"
      },
      "execution_count": null,
      "outputs": [
        {
          "output_type": "stream",
          "name": "stdout",
          "text": [
            "tensor([0.1193, 0.1390, 0.1312, 0.1165, 0.1316, 0.1554, 0.1326, 0.1466, 0.1307,\n",
            "        0.1215, 0.1341, 0.1308, 0.1282, 0.1542, 0.1199, 0.1258, 0.1271, 0.1139,\n",
            "        0.1504, 0.1271, 0.1303, 0.1180, 0.1182, 0.1378, 0.1214, 0.1356, 0.1332,\n",
            "        0.1197, 0.1322, 0.1332, 0.1483, 0.1280, 0.1251, 0.1318, 0.1171, 0.1266,\n",
            "        0.1403, 0.1314, 0.1330, 0.1202, 0.1229, 0.1294, 0.1240, 0.1134, 0.1440,\n",
            "        0.1267, 0.1369, 0.1347, 0.1311, 0.1226, 0.1231, 0.1344, 0.1306, 0.1385,\n",
            "        0.1168, 0.1466, 0.1707, 0.1285, 0.1358, 0.1178, 0.1236, 0.1326, 0.1312,\n",
            "        0.1249, 0.1298, 0.1276, 0.1291, 0.1253, 0.1239, 0.1515, 0.1261, 0.1233,\n",
            "        0.1218, 0.1285, 0.1199, 0.1166, 0.1481, 0.1266, 0.1191, 0.1488, 0.1497,\n",
            "        0.1304, 0.1220, 0.1192, 0.1427, 0.1388, 0.1310, 0.1312, 0.1212, 0.1267,\n",
            "        0.1277, 0.1324, 0.1305, 0.1137, 0.1212, 0.1206, 0.1257, 0.1311, 0.1468,\n",
            "        0.1400, 0.1205, 0.1259, 0.1247, 0.1485, 0.1176, 0.1295, 0.1585, 0.1195,\n",
            "        0.1327, 0.1297, 0.1264, 0.1207, 0.1140, 0.1335, 0.1749, 0.1263, 0.1338,\n",
            "        0.1298, 0.1240, 0.1288, 0.1202, 0.1274, 0.1167, 0.1485, 0.1295, 0.1571,\n",
            "        0.1161, 0.1394], grad_fn=<MaxBackward0>)\n",
            "tensor([2, 5, 2, 5, 2, 5, 9, 3, 4, 7, 5, 5, 7, 5, 9, 9, 1, 5, 9, 9, 9, 1, 9, 2,\n",
            "        9, 5, 9, 9, 2, 3, 5, 9, 2, 2, 9, 7, 0, 9, 6, 5, 2, 8, 2, 2, 9, 9, 2, 9,\n",
            "        2, 2, 2, 8, 2, 9, 2, 3, 3, 3, 9, 2, 3, 5, 9, 2, 2, 9, 2, 2, 2, 2, 9, 2,\n",
            "        3, 8, 5, 9, 9, 8, 0, 2, 3, 2, 4, 9, 2, 2, 2, 6, 5, 6, 2, 3, 2, 9, 7, 1,\n",
            "        5, 9, 9, 0, 9, 3, 1, 9, 1, 2, 9, 2, 3, 2, 2, 2, 2, 3, 9, 2, 3, 2, 5, 5,\n",
            "        1, 2, 5, 9, 2, 9, 1, 2])\n"
          ]
        }
      ]
    },
    {
      "cell_type": "code",
      "source": [
        "labels"
      ],
      "metadata": {
        "colab": {
          "base_uri": "https://localhost:8080/"
        },
        "id": "VRK-FyB1ncLQ",
        "outputId": "2c556391-30d5-41db-e462-25c8857f4159"
      },
      "execution_count": null,
      "outputs": [
        {
          "output_type": "execute_result",
          "data": {
            "text/plain": [
              "tensor([4, 8, 4, 4, 8, 8, 0, 2, 7, 4, 2, 8, 4, 8, 5, 2, 7, 5, 0, 2, 5, 9, 2, 7,\n",
              "        2, 6, 7, 9, 1, 8, 6, 0, 9, 7, 5, 4, 6, 3, 0, 3, 3, 2, 6, 3, 0, 1, 7, 6,\n",
              "        9, 7, 1, 0, 6, 0, 1, 2, 2, 9, 9, 7, 5, 6, 3, 9, 7, 4, 2, 4, 2, 7, 6, 7,\n",
              "        1, 4, 3, 5, 1, 4, 9, 7, 2, 9, 9, 9, 7, 7, 6, 0, 1, 2, 9, 4, 1, 6, 3, 9,\n",
              "        1, 0, 6, 0, 0, 1, 7, 0, 4, 7, 2, 1, 8, 2, 7, 9, 5, 1, 0, 3, 1, 2, 1, 2,\n",
              "        7, 9, 1, 0, 2, 5, 9, 8])"
            ]
          },
          "metadata": {},
          "execution_count": 262
        }
      ]
    },
    {
      "cell_type": "code",
      "source": [
        "def accuracy(outputs,labels):\n",
        "  _,preds=torch.max(outputs,dim=1)\n",
        "  return torch.tensor(torch.sum(preds==labels).item()/len(preds))"
      ],
      "metadata": {
        "id": "xBZfcr5Vnytd"
      },
      "execution_count": null,
      "outputs": []
    },
    {
      "cell_type": "code",
      "source": [
        "print(torch.sum(preds==labels).item())"
      ],
      "metadata": {
        "colab": {
          "base_uri": "https://localhost:8080/"
        },
        "id": "Z1Vi9Cg7wP1T",
        "outputId": "67cadc6c-20db-4323-ecef-805522e68946"
      },
      "execution_count": null,
      "outputs": [
        {
          "output_type": "stream",
          "name": "stdout",
          "text": [
            "10\n"
          ]
        }
      ]
    },
    {
      "cell_type": "code",
      "source": [
        "preds==labels"
      ],
      "metadata": {
        "colab": {
          "base_uri": "https://localhost:8080/"
        },
        "id": "FbEIq-DGwTyY",
        "outputId": "8818e6cb-5cbf-4ff0-e36a-7b4fcd1412c3"
      },
      "execution_count": null,
      "outputs": [
        {
          "output_type": "execute_result",
          "data": {
            "text/plain": [
              "tensor([False, False, False, False, False, False, False, False, False, False,\n",
              "        False, False, False, False, False, False, False,  True, False, False,\n",
              "        False, False, False, False, False, False, False,  True, False, False,\n",
              "        False, False, False, False, False, False, False, False, False, False,\n",
              "        False, False, False, False, False, False, False, False, False, False,\n",
              "        False, False, False, False, False, False, False, False,  True, False,\n",
              "        False, False, False, False, False, False,  True, False,  True, False,\n",
              "        False, False, False, False, False, False, False, False, False, False,\n",
              "        False, False, False,  True, False, False, False, False, False, False,\n",
              "        False, False, False, False, False, False, False, False, False,  True,\n",
              "        False, False, False, False, False, False, False, False, False,  True,\n",
              "        False, False, False, False, False, False, False,  True, False, False,\n",
              "        False, False, False, False,  True, False, False, False])"
            ]
          },
          "metadata": {},
          "execution_count": 265
        }
      ]
    },
    {
      "cell_type": "code",
      "source": [
        "accuracy(outputs,labels)"
      ],
      "metadata": {
        "colab": {
          "base_uri": "https://localhost:8080/"
        },
        "id": "dQ-T3VO-warg",
        "outputId": "ce752770-447f-4ec5-b3d1-a4c6076b1c30"
      },
      "execution_count": null,
      "outputs": [
        {
          "output_type": "execute_result",
          "data": {
            "text/plain": [
              "tensor(0.0781)"
            ]
          },
          "metadata": {},
          "execution_count": 266
        }
      ]
    },
    {
      "cell_type": "code",
      "source": [
        "loss_fn=F.cross_entropy"
      ],
      "metadata": {
        "id": "pnE9wc7UwtVx"
      },
      "execution_count": null,
      "outputs": []
    },
    {
      "cell_type": "code",
      "source": [
        "loss=loss_fn(outputs,labels)\n",
        "print(loss)"
      ],
      "metadata": {
        "colab": {
          "base_uri": "https://localhost:8080/"
        },
        "id": "pOYQfPIJz-Uu",
        "outputId": "befad949-a5f9-4162-9f33-05b036b73747"
      },
      "execution_count": null,
      "outputs": [
        {
          "output_type": "stream",
          "name": "stdout",
          "text": [
            "tensor(2.3130, grad_fn=<NllLossBackward0>)\n"
          ]
        }
      ]
    },
    {
      "cell_type": "code",
      "source": [
        "def fit(epochs,lr,model,train_loader,val_loader,opt_func=torch.optim.SGD):\n",
        "  optimizer=opt_func(model.parameters(),lr)\n",
        "  history=[]\n",
        "\n",
        "  for epoch in range(epochs):\n",
        "    for batch in train_loader:\n",
        "      loss=model.training_step(batch)\n",
        "      loss.backward()\n",
        "      optimizer.step()\n",
        "      optimizer.zero_grad()\n",
        "\n",
        "    result=evaluate(model,val_loader)\n",
        "    model.epoch_end(epoch,result)\n",
        "    history.append(result)\n",
        "  return history"
      ],
      "metadata": {
        "id": "ObNPKE381Fc2"
      },
      "execution_count": null,
      "outputs": []
    },
    {
      "cell_type": "code",
      "source": [
        "def evaluate(model,val_loader):\n",
        "  outputs=[model.validation_step(batch) for batch in val_loader]\n",
        "  return model.validation_epoch_end(outputs)"
      ],
      "metadata": {
        "id": "7L8TQL5L97mc"
      },
      "execution_count": null,
      "outputs": []
    },
    {
      "cell_type": "code",
      "source": [
        "class MnistModel(nn.Module):\n",
        "  def __init__(self):\n",
        "    super().__init__()\n",
        "    self.linear=nn.Linear(input_size,num_classes)\n",
        "\n",
        "  def forward(self,xb):\n",
        "    xb=xb.reshape(-1,784)\n",
        "    out=self.linear(xb)\n",
        "    return out\n",
        "\n",
        "  def training_step(self,batch):\n",
        "    images,labels=batch\n",
        "    out=self(images)        #generate outputs\n",
        "    loss=F.cross_entropy(out,labels)    #loss\n",
        "    return loss\n",
        "\n",
        "  def validation_step(self,batch):\n",
        "    images,labels=batch\n",
        "    out=self(images)        #generate outputs\n",
        "    loss=F.cross_entropy(out,labels)    #loss\n",
        "    acc=accuracy(out,labels)\n",
        "    return {'val_loss':loss,'val_acc':acc}\n",
        "\n",
        "  def validation_epoch_end(self,outputs):\n",
        "    batch_losses=[x[\"val_loss\"] for x in outputs]\n",
        "    epoch_loss=torch.stack(batch_losses).mean()\n",
        "    batch_accs=[x[\"val_acc\"] for x in outputs]\n",
        "    epoch_acc=torch.stack(batch_accs).mean()\n",
        "    return {'val_loss':epoch_loss.item(),'val_acc':epoch_acc.item()}\n",
        "\n",
        "\n",
        "  def epoch_end(self,epoch,result):\n",
        "    print(\"Epoch [{}], val_loss: {:.4f}, val_acc: {:.4f}\".format(epoch, result['val_loss'], result['val_acc']))\n",
        "    print('--------------------------------------------------------------------------------------------------------------')\n",
        "\n",
        "model=MnistModel()"
      ],
      "metadata": {
        "id": "RXjffa1Q42Zp"
      },
      "execution_count": null,
      "outputs": []
    },
    {
      "cell_type": "code",
      "source": [
        "history1=fit(5,0.001,model,train_loader,val_loader)"
      ],
      "metadata": {
        "colab": {
          "base_uri": "https://localhost:8080/"
        },
        "id": "5GW7tjIC-_y_",
        "outputId": "8d6dd440-a194-4d74-821b-ab29d91e5a95"
      },
      "execution_count": null,
      "outputs": [
        {
          "output_type": "stream",
          "name": "stdout",
          "text": [
            "Epoch [0], val_loss: 1.9497, val_acc: 0.6140\n",
            "--------------------------------------------------------------------------------------------------------------\n",
            "Epoch [1], val_loss: 1.6790, val_acc: 0.7267\n",
            "--------------------------------------------------------------------------------------------------------------\n",
            "Epoch [2], val_loss: 1.4760, val_acc: 0.7645\n",
            "--------------------------------------------------------------------------------------------------------------\n",
            "Epoch [3], val_loss: 1.3223, val_acc: 0.7875\n",
            "--------------------------------------------------------------------------------------------------------------\n",
            "Epoch [4], val_loss: 1.2039, val_acc: 0.8021\n",
            "--------------------------------------------------------------------------------------------------------------\n"
          ]
        }
      ]
    },
    {
      "cell_type": "code",
      "source": [
        "history2 = fit(5, 0.001, model, train_loader, val_loader)"
      ],
      "metadata": {
        "colab": {
          "base_uri": "https://localhost:8080/"
        },
        "id": "6PYPwleb_SnB",
        "outputId": "b8722b40-e312-459a-ce9e-57a8c76fd8f0"
      },
      "execution_count": null,
      "outputs": [
        {
          "output_type": "stream",
          "name": "stdout",
          "text": [
            "Epoch [0], val_loss: 1.1109, val_acc: 0.8148\n",
            "--------------------------------------------------------------------------------------------------------------\n",
            "Epoch [1], val_loss: 1.0362, val_acc: 0.8249\n",
            "--------------------------------------------------------------------------------------------------------------\n",
            "Epoch [2], val_loss: 0.9752, val_acc: 0.8318\n",
            "--------------------------------------------------------------------------------------------------------------\n",
            "Epoch [3], val_loss: 0.9244, val_acc: 0.8356\n",
            "--------------------------------------------------------------------------------------------------------------\n",
            "Epoch [4], val_loss: 0.8815, val_acc: 0.8390\n",
            "--------------------------------------------------------------------------------------------------------------\n"
          ]
        }
      ]
    },
    {
      "cell_type": "code",
      "source": [
        "history3 = fit(5, 0.001, model, train_loader, val_loader)"
      ],
      "metadata": {
        "colab": {
          "base_uri": "https://localhost:8080/"
        },
        "id": "6gR9jec5AVa5",
        "outputId": "88dd7111-8464-4906-eb69-427bab6e24be"
      },
      "execution_count": null,
      "outputs": [
        {
          "output_type": "stream",
          "name": "stdout",
          "text": [
            "Epoch [0], val_loss: 0.8447, val_acc: 0.8415\n",
            "--------------------------------------------------------------------------------------------------------------\n",
            "Epoch [1], val_loss: 0.8128, val_acc: 0.8440\n",
            "--------------------------------------------------------------------------------------------------------------\n",
            "Epoch [2], val_loss: 0.7850, val_acc: 0.8468\n",
            "--------------------------------------------------------------------------------------------------------------\n",
            "Epoch [3], val_loss: 0.7604, val_acc: 0.8493\n",
            "--------------------------------------------------------------------------------------------------------------\n",
            "Epoch [4], val_loss: 0.7385, val_acc: 0.8517\n",
            "--------------------------------------------------------------------------------------------------------------\n"
          ]
        }
      ]
    },
    {
      "cell_type": "code",
      "source": [
        "history4 = fit(5, 0.001, model, train_loader, val_loader)"
      ],
      "metadata": {
        "colab": {
          "base_uri": "https://localhost:8080/"
        },
        "id": "zOIqWPA5Ajd1",
        "outputId": "ec64bdf5-926b-49a9-8647-6276bba3156d"
      },
      "execution_count": null,
      "outputs": [
        {
          "output_type": "stream",
          "name": "stdout",
          "text": [
            "Epoch [0], val_loss: 0.7189, val_acc: 0.8545\n",
            "--------------------------------------------------------------------------------------------------------------\n",
            "Epoch [1], val_loss: 0.7013, val_acc: 0.8556\n",
            "--------------------------------------------------------------------------------------------------------------\n",
            "Epoch [2], val_loss: 0.6852, val_acc: 0.8577\n",
            "--------------------------------------------------------------------------------------------------------------\n",
            "Epoch [3], val_loss: 0.6706, val_acc: 0.8587\n",
            "--------------------------------------------------------------------------------------------------------------\n",
            "Epoch [4], val_loss: 0.6573, val_acc: 0.8603\n",
            "--------------------------------------------------------------------------------------------------------------\n"
          ]
        }
      ]
    },
    {
      "cell_type": "code",
      "source": [
        "history = history1 + history2 + history3 + history4\n",
        "accuracies = [result['val_acc'] for result in history]\n",
        "plt.plot(accuracies, '-x')\n",
        "plt.xlabel('epoch')\n",
        "plt.ylabel('accuracy')\n",
        "plt.title('Accuracy vs. No. of epochs');"
      ],
      "metadata": {
        "colab": {
          "base_uri": "https://localhost:8080/",
          "height": 472
        },
        "id": "9WqBae-kA7ay",
        "outputId": "bf9f06c9-3a4d-4886-9fe7-40591c29e578"
      },
      "execution_count": null,
      "outputs": [
        {
          "output_type": "display_data",
          "data": {
            "text/plain": [
              "<Figure size 640x480 with 1 Axes>"
            ],
            "image/png": "[encoded data removed]"
          },
          "metadata": {}
        }
      ]
    },
    {
      "cell_type": "markdown",
      "source": [
        "Since the code is ran multiple times ,couldnt track the increase in accuracy of the model"
      ],
      "metadata": {
        "id": "pKHpJXBpalhN"
      }
    },
    {
      "cell_type": "code",
      "source": [
        "test_dataset=MNIST(root='data/',train=False,transform=transforms.ToTensor())"
      ],
      "metadata": {
        "id": "DNmP9oucCEbF"
      },
      "execution_count": null,
      "outputs": []
    },
    {
      "cell_type": "code",
      "source": [
        "img,label=test_dataset[0]\n",
        "plt.imshow(img[0],cmap='gray')\n",
        "print('Shape:',img.shape)\n",
        "print('Label:',label)"
      ],
      "metadata": {
        "colab": {
          "base_uri": "https://localhost:8080/",
          "height": 466
        },
        "id": "n6MlRwmFE2VH",
        "outputId": "85bd4fad-9174-4e38-c821-04910208bca9"
      },
      "execution_count": null,
      "outputs": [
        {
          "output_type": "stream",
          "name": "stdout",
          "text": [
            "Shape: torch.Size([1, 28, 28])\n",
            "Label: 7\n"
          ]
        },
        {
          "output_type": "display_data",
          "data": {
            "text/plain": [
              "<Figure size 640x480 with 1 Axes>"
            ],
            "image/png": "[encoded data removed]"
          },
          "metadata": {}
        }
      ]
    },
    {
      "cell_type": "code",
      "source": [
        "def predict_image(img,model):\n",
        "  xb=img.unsqueeze(0)\n",
        "  yb=model(xb)\n",
        "  _,preds=torch.max(yb,dim=1)\n",
        "  return preds[0].item()"
      ],
      "metadata": {
        "id": "ED6eQtAcFUsN"
      },
      "execution_count": null,
      "outputs": []
    },
    {
      "cell_type": "code",
      "source": [
        "predict_image(img[0],model)"
      ],
      "metadata": {
        "colab": {
          "base_uri": "https://localhost:8080/"
        },
        "id": "Suy9K_nGF7_4",
        "outputId": "f62bf194-f404-48d4-a5aa-2671685f9af7"
      },
      "execution_count": null,
      "outputs": [
        {
          "output_type": "execute_result",
          "data": {
            "text/plain": [
              "7"
            ]
          },
          "metadata": {},
          "execution_count": 284
        }
      ]
    },
    {
      "cell_type": "code",
      "source": [
        "img, label = test_dataset[10]\n",
        "plt.imshow(img[0], cmap='gray')\n",
        "print('Label:', label, ', Predicted:', predict_image(img, model))"
      ],
      "metadata": {
        "colab": {
          "base_uri": "https://localhost:8080/",
          "height": 448
        },
        "id": "2XAkHu2CF--j",
        "outputId": "d614ca0a-614c-4afd-db3a-605ea282f6c4"
      },
      "execution_count": null,
      "outputs": [
        {
          "output_type": "stream",
          "name": "stdout",
          "text": [
            "Label: 0 , Predicted: 0\n"
          ]
        },
        {
          "output_type": "display_data",
          "data": {
            "text/plain": [
              "<Figure size 640x480 with 1 Axes>"
            ],
            "image/png": "[encoded data removed]"
          },
          "metadata": {}
        }
      ]
    },
    {
      "cell_type": "code",
      "source": [
        "img, label = test_dataset[100]\n",
        "plt.imshow(img[0], cmap='gray')\n",
        "print('Label:', label, ', Predicted:', predict_image(img, model))"
      ],
      "metadata": {
        "colab": {
          "base_uri": "https://localhost:8080/",
          "height": 448
        },
        "id": "H91FpnNTG68_",
        "outputId": "7d396d1d-a93e-43fb-d603-5745dd6bdfe8"
      },
      "execution_count": null,
      "outputs": [
        {
          "output_type": "stream",
          "name": "stdout",
          "text": [
            "Label: 6 , Predicted: 6\n"
          ]
        },
        {
          "output_type": "display_data",
          "data": {
            "text/plain": [
              "<Figure size 640x480 with 1 Axes>"
            ],
            "image/png": "[encoded data removed]"
          },
          "metadata": {}
        }
      ]
    },
    {
      "cell_type": "code",
      "source": [
        "img, label = test_dataset[1000]\n",
        "plt.imshow(img[0], cmap='gray')\n",
        "print('Label:', label, ', Predicted:', predict_image(img, model))"
      ],
      "metadata": {
        "colab": {
          "base_uri": "https://localhost:8080/",
          "height": 448
        },
        "id": "Pq9jbvm-G_WS",
        "outputId": "fc6d8a9f-b3a6-4c54-af02-5434032b07b3"
      },
      "execution_count": null,
      "outputs": [
        {
          "output_type": "stream",
          "name": "stdout",
          "text": [
            "Label: 9 , Predicted: 7\n"
          ]
        },
        {
          "output_type": "display_data",
          "data": {
            "text/plain": [
              "<Figure size 640x480 with 1 Axes>"
            ],
            "image/png": "[encoded data removed]"
          },
          "metadata": {}
        }
      ]
    },
    {
      "cell_type": "code",
      "source": [
        "img, label = test_dataset[1839]\n",
        "plt.imshow(img[0], cmap='gray')\n",
        "print('Label:', label, ', Predicted:', predict_image(img, model))"
      ],
      "metadata": {
        "colab": {
          "base_uri": "https://localhost:8080/",
          "height": 448
        },
        "id": "cRjrOvGkHDMg",
        "outputId": "6a9ac3aa-321e-4929-ddcf-70c541023efe"
      },
      "execution_count": null,
      "outputs": [
        {
          "output_type": "stream",
          "name": "stdout",
          "text": [
            "Label: 2 , Predicted: 8\n"
          ]
        },
        {
          "output_type": "display_data",
          "data": {
            "text/plain": [
              "<Figure size 640x480 with 1 Axes>"
            ],
            "image/png": "[encoded data removed]"
          },
          "metadata": {}
        }
      ]
    },
    {
      "cell_type": "code",
      "source": [
        "test_loader=DataLoader(test_dataset,batch_size=256)\n",
        "result=evaluate(model,test_loader)\n",
        "result"
      ],
      "metadata": {
        "colab": {
          "base_uri": "https://localhost:8080/"
        },
        "id": "ZhGvYXibHWlK",
        "outputId": "f26afdf5-b085-4230-93ff-f33f759a5155"
      },
      "execution_count": null,
      "outputs": [
        {
          "output_type": "execute_result",
          "data": {
            "text/plain": [
              "{'val_loss': 0.6398107409477234, 'val_acc': 0.861621081829071}"
            ]
          },
          "metadata": {},
          "execution_count": 290
        }
      ]
    },
    {
      "cell_type": "code",
      "source": [
        "torch.save(model.state_dict(), 'mnist-logistic.pth')"
      ],
      "metadata": {
        "id": "a5_WnuF4Htyy"
      },
      "execution_count": null,
      "outputs": []
    },
    {
      "cell_type": "code",
      "source": [
        "model.state_dict()"
      ],
      "metadata": {
        "colab": {
          "base_uri": "https://localhost:8080/"
        },
        "id": "VaoYGLg0IhvP",
        "outputId": "e8a35d9c-1fb1-4c30-d636-90347c94fa1f"
      },
      "execution_count": null,
      "outputs": [
        {
          "output_type": "execute_result",
          "data": {
            "text/plain": [
              "OrderedDict([('linear.weight',\n",
              "              tensor([[-0.0073, -0.0102, -0.0280,  ..., -0.0138,  0.0100,  0.0266],\n",
              "                      [ 0.0307, -0.0183, -0.0273,  ..., -0.0132,  0.0056,  0.0220],\n",
              "                      [ 0.0023,  0.0160, -0.0059,  ..., -0.0053, -0.0011,  0.0014],\n",
              "                      ...,\n",
              "                      [ 0.0053,  0.0102,  0.0231,  ..., -0.0250, -0.0352, -0.0344],\n",
              "                      [-0.0192, -0.0190,  0.0008,  ...,  0.0014, -0.0159, -0.0060],\n",
              "                      [-0.0015,  0.0127, -0.0122,  ..., -0.0303, -0.0246, -0.0178]])),\n",
              "             ('linear.bias',\n",
              "              tensor([-0.0848,  0.1133, -0.0431, -0.0160,  0.0132,  0.0681, -0.0097,  0.0425,\n",
              "                      -0.1211, -0.0117]))])"
            ]
          },
          "metadata": {},
          "execution_count": 292
        }
      ]
    },
    {
      "cell_type": "code",
      "source": [
        "model2=MnistModel()\n",
        "model2.state_dict()"
      ],
      "metadata": {
        "colab": {
          "base_uri": "https://localhost:8080/"
        },
        "id": "2OxQ3cEIIln6",
        "outputId": "cd832b77-721e-4cbb-d896-83b7be2aff18"
      },
      "execution_count": null,
      "outputs": [
        {
          "output_type": "execute_result",
          "data": {
            "text/plain": [
              "OrderedDict([('linear.weight',\n",
              "              tensor([[ 0.0331,  0.0081,  0.0022,  ...,  0.0045, -0.0264,  0.0204],\n",
              "                      [-0.0316, -0.0247, -0.0298,  ..., -0.0007, -0.0311,  0.0036],\n",
              "                      [-0.0232, -0.0256, -0.0085,  ..., -0.0295, -0.0014,  0.0241],\n",
              "                      ...,\n",
              "                      [-0.0270, -0.0038, -0.0130,  ...,  0.0181, -0.0041, -0.0320],\n",
              "                      [-0.0003,  0.0027, -0.0247,  ...,  0.0067, -0.0083, -0.0259],\n",
              "                      [-0.0127, -0.0267,  0.0255,  ...,  0.0013,  0.0217, -0.0108]])),\n",
              "             ('linear.bias',\n",
              "              tensor([-0.0233,  0.0074,  0.0158, -0.0055, -0.0278, -0.0259, -0.0325, -0.0145,\n",
              "                       0.0279,  0.0057]))])"
            ]
          },
          "metadata": {},
          "execution_count": 293
        }
      ]
    },
    {
      "cell_type": "code",
      "source": [
        "evaluate(model2,test_loader)"
      ],
      "metadata": {
        "colab": {
          "base_uri": "https://localhost:8080/"
        },
        "id": "1aPPpNnrI6ta",
        "outputId": "91c43b53-5bc6-42a2-9f0a-d593b992eafa"
      },
      "execution_count": null,
      "outputs": [
        {
          "output_type": "execute_result",
          "data": {
            "text/plain": [
              "{'val_loss': 2.305178165435791, 'val_acc': 0.09326171875}"
            ]
          },
          "metadata": {},
          "execution_count": 295
        }
      ]
    },
    {
      "cell_type": "code",
      "source": [
        "model2.load_state_dict(torch.load('mnist-logistic.pth'))\n",
        "model2.state_dict()"
      ],
      "metadata": {
        "colab": {
          "base_uri": "https://localhost:8080/"
        },
        "id": "gKibhDH9JA6d",
        "outputId": "d386b96b-93f8-4591-e5f0-661359e7e7fa"
      },
      "execution_count": null,
      "outputs": [
        {
          "output_type": "execute_result",
          "data": {
            "text/plain": [
              "OrderedDict([('linear.weight',\n",
              "              tensor([[-0.0073, -0.0102, -0.0280,  ..., -0.0138,  0.0100,  0.0266],\n",
              "                      [ 0.0307, -0.0183, -0.0273,  ..., -0.0132,  0.0056,  0.0220],\n",
              "                      [ 0.0023,  0.0160, -0.0059,  ..., -0.0053, -0.0011,  0.0014],\n",
              "                      ...,\n",
              "                      [ 0.0053,  0.0102,  0.0231,  ..., -0.0250, -0.0352, -0.0344],\n",
              "                      [-0.0192, -0.0190,  0.0008,  ...,  0.0014, -0.0159, -0.0060],\n",
              "                      [-0.0015,  0.0127, -0.0122,  ..., -0.0303, -0.0246, -0.0178]])),\n",
              "             ('linear.bias',\n",
              "              tensor([-0.0848,  0.1133, -0.0431, -0.0160,  0.0132,  0.0681, -0.0097,  0.0425,\n",
              "                      -0.1211, -0.0117]))])"
            ]
          },
          "metadata": {},
          "execution_count": 296
        }
      ]
    },
    {
      "cell_type": "code",
      "source": [
        "evaluate(model2,test_loader)"
      ],
      "metadata": {
        "id": "pFDPjv6qJObL",
        "colab": {
          "base_uri": "https://localhost:8080/"
        },
        "outputId": "401e60ea-b9a6-4ef3-db71-0f2caa741cc7"
      },
      "execution_count": null,
      "outputs": [
        {
          "output_type": "execute_result",
          "data": {
            "text/plain": [
              "{'val_loss': 0.6398107409477234, 'val_acc': 0.861621081829071}"
            ]
          },
          "metadata": {},
          "execution_count": 298
        }
      ]
    }
  ]
}